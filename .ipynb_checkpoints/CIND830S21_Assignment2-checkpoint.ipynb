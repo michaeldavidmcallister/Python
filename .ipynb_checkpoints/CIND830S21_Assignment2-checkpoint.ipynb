{
 "cells": [
  {
   "cell_type": "markdown",
   "metadata": {
    "id": "TX_-QfCapg5r"
   },
   "source": [
    "## CIND830 - Python Programming for Data Science  \n",
    "### Assignment 2 (10% of the final grade)\n",
    "### Due on May 31, 2021 11:59 PM"
   ]
  },
  {
   "cell_type": "markdown",
   "metadata": {
    "id": "U8IqCJzxpg5t"
   },
   "source": [
    "*****\n",
    "This is a Jupyter Notebook document that extends a simple formatting syntax for authoring HTML and PDF. Review [this](https://jupyter-notebook.readthedocs.io/en/stable/notebook.html) website for more details on using Jupyter Notebooks.\n",
    "\n",
    "Use the JupyterHub server on the Google Cloud Platform, provided by your designated instructor, for this assignment. Ensure using **Python 3.7.6** release then complete the assignment by inserting your Python code wherever seeing the string `#INSERT YOUR ANSWER HERE.`\n",
    "\n",
    "When you click the `File` button, from the top navigation bar, then select `Export Notebook to HTML`, an HTML document will be generated that includes both the assignment content and the output of any embedded Python code chunks.\n",
    "\n",
    "Use [these](https://www.ryerson.ca/courses/students/tutorials/assignments/) guidelines to submit **both** the IPYNB and the exported file (HTML). Failing to submit both files will be subject to mark deduction.\n",
    "\n",
    "Please be advised that you cannot get more than 100% in this assignment, and the **BONUS** question will only be graded if all other questions have been submitted."
   ]
  },
  {
   "cell_type": "markdown",
   "metadata": {
    "id": "_w2FpDl5pg5u"
   },
   "source": [
    "*****"
   ]
  },
  {
   "cell_type": "markdown",
   "metadata": {
    "id": "EgCYUXsUpg5w"
   },
   "source": [
    "### Question 1 **[50 pts]**:"
   ]
  },
  {
   "cell_type": "markdown",
   "metadata": {
    "id": "U8EiOXpFAvO0"
   },
   "source": [
    "**a)** **[10 pts]** Define a function called `is_even` that takes an integer as a parameter and returns `True` if the given integer is Even. An integer is said to be even if the modulo(%) of the integer equals `0`. For example, `4` is even `(4%2 = 0)`, but `5` is not `(5%2 = 1)`."
   ]
  },
  {
   "cell_type": "code",
   "execution_count": 55,
   "metadata": {
    "id": "ggwn3zr4YgqL"
   },
   "outputs": [
    {
     "data": {
      "text/plain": [
       "False"
      ]
     },
     "execution_count": 55,
     "metadata": {},
     "output_type": "execute_result"
    }
   ],
   "source": [
    "#Function = is_even\n",
    "#Takes integer from input, returns true if even\n",
    "\n",
    "def is_even(x):\n",
    "    return x%2 == 0\n",
    "\n",
    "is_even(2) # True\n",
    "is_even(4) #True\n",
    "is_even(3) #False"
   ]
  },
  {
   "cell_type": "markdown",
   "metadata": {
    "id": "7P6eyfpepg58"
   },
   "source": [
    "**b)** **[10 pts]** Modify the `is_even` function you created in Q1.a to take a floating-point data as an input and return `True` if the ceiling of the input is Even. For example, `12.5` is not even, but `11.25` is even."
   ]
  },
  {
   "cell_type": "code",
   "execution_count": 7,
   "metadata": {
    "id": "1_raetpPYg-Y"
   },
   "outputs": [
    {
     "data": {
      "text/plain": [
       "False"
      ]
     },
     "execution_count": 7,
     "metadata": {},
     "output_type": "execute_result"
    }
   ],
   "source": [
    "import math\n",
    "\n",
    "def is_Even(x):\n",
    "    x = math.ceil(x)\n",
    "    return x%2 == 0\n",
    "\n",
    "is_even(12.5) #False\n",
    "is_even(11.25) #True"
   ]
  },
  {
   "cell_type": "markdown",
   "metadata": {
    "id": "xC08P3Mvpg6C"
   },
   "source": [
    "**c)** **[10 pts]** Define a function called `is_even_vec` that calls `isEven` function you updated in Q1.b to take a list of floating-point or integer numbers and return their results in a list.  For example, given `[1441.25, 231.5, 23]` the function returns `[True, True, False]`"
   ]
  },
  {
   "cell_type": "code",
   "execution_count": 57,
   "metadata": {
    "id": "LHA4aK4QYhRu"
   },
   "outputs": [
    {
     "data": {
      "text/plain": [
       "[True, True, False]"
      ]
     },
     "execution_count": 57,
     "metadata": {},
     "output_type": "execute_result"
    }
   ],
   "source": [
    "import math\n",
    "\n",
    "def is_Even(x):\n",
    "    x = math.ceil(x)\n",
    "    return x%2 == 0\n",
    "\n",
    "\n",
    "def is_even_vec(x):\n",
    "    output=[]\n",
    "    for i in x:\n",
    "        z = is_Even(i)\n",
    "        output.append(z)\n",
    "    return(output)\n",
    "        \n",
    "is_even_vec([1441.25, 231.5, 23])"
   ]
  },
  {
   "cell_type": "markdown",
   "metadata": {
    "id": "M4dHoJWYpg6G"
   },
   "source": [
    "d)**[10 pts]** Define a function called `is_even_dict` that calls `is_even_vec` and returns the results in a dictionary with their corresponding input elements. \\\n",
    "For example, given `[1441.25, 231.5, 23]` the function returns `{1441.25: True, 231.5: True, 23: False}`"
   ]
  },
  {
   "cell_type": "code",
   "execution_count": 93,
   "metadata": {
    "id": "LBAG1WDiYhx1"
   },
   "outputs": [
    {
     "name": "stdout",
     "output_type": "stream",
     "text": [
      "{1441.25: True, 231.5: True, 23: False}\n"
     ]
    }
   ],
   "source": [
    "#define the keys as the inputted list\n",
    "#define the output of is_even_vec as the values of the dictionary\n",
    "\n",
    "\n",
    "\n",
    "import math\n",
    "\n",
    "def is_Even(x):\n",
    "    x = math.ceil(x)\n",
    "    return x%2 == 0\n",
    "\n",
    "\n",
    "def is_even_vec(x):\n",
    "    output=[]\n",
    "    for i in x:\n",
    "        z = is_Even(i)\n",
    "        output.append(z)\n",
    "    return(output)\n",
    "\n",
    "def is_even_dict(x):\n",
    "    dictionary={} #initialize dictionary\n",
    "    #Storing starting values as keys\n",
    "    #Storing is_even_vec values as values for dictionary\n",
    "    key=x\n",
    "    value=is_even_vec(x)\n",
    "    #iterate through lists to match keys with values\n",
    "    for i in key:\n",
    "        for j in value:\n",
    "            dictionary[i] = j\n",
    "            value.remove(j)\n",
    "            break\n",
    "            return (dictionary)\n",
    "#print dictionary\n",
    "    print(dictionary)\n",
    "\n",
    "is_even_dict([1441.25, 231.5, 23])\n",
    "\n",
    "\n"
   ]
  },
  {
   "cell_type": "markdown",
   "metadata": {
    "id": "EXPv2CWzRDgl"
   },
   "source": [
    "**e)** **[10 pts]** Define a function called `isEvenTuple` by modifying the function you created in Q1.d to traverse the values of the returned dictionary **in reverse order** and return the dictionary keys that has a **`TRUE`** value as a tuple.  For example, given `[1441.25, 231.5, 23]` the function returns `(231.5 1441.25)`."
   ]
  },
  {
   "cell_type": "code",
   "execution_count": 108,
   "metadata": {
    "id": "JFgrhydBYiNd"
   },
   "outputs": [
    {
     "data": {
      "text/plain": [
       "(231.5, 1441.25)"
      ]
     },
     "execution_count": 108,
     "metadata": {},
     "output_type": "execute_result"
    }
   ],
   "source": [
    "import math\n",
    "\n",
    "def is_Even(x):\n",
    "    x = math.ceil(x)\n",
    "    return x%2 == 0\n",
    "\n",
    "def is_even_vec(x):\n",
    "    output=[]\n",
    "    for i in x:\n",
    "        z = is_Even(i)\n",
    "        output.append(z)\n",
    "    return(output)\n",
    "\n",
    "def isEvenTuple(x):\n",
    "    list = []\n",
    "    key=x\n",
    "    value=is_even_vec(x)\n",
    "    for i in key:\n",
    "        for j in value:\n",
    "            if j == True:\n",
    "                list.insert(0,i)\n",
    "                value.remove(j)\n",
    "                break\n",
    "    return(tuple(list))\n",
    "    \n",
    "isEvenTuple([1441.25, 231.5, 23])"
   ]
  },
  {
   "cell_type": "markdown",
   "metadata": {
    "id": "ES2Lj2aup8BB"
   },
   "source": [
    "*****"
   ]
  },
  {
   "cell_type": "markdown",
   "metadata": {
    "id": "TEbtnn-0pg6K",
    "nteract": {
     "transient": {
      "deleting": false
     }
    }
   },
   "source": [
    "\n",
    "\n",
    "### Question 2 **[30 pts]** :\n",
    "\n"
   ]
  },
  {
   "cell_type": "markdown",
   "metadata": {
    "id": "TJ9u04Y7Tz2-"
   },
   "source": [
    "**a) **[10 pts]** Define a function called `three_sub_str` that takes in as input a string and returns a string made of the first 3 and the last 3 characters from the input. If the string length is less than 3, return instead the string `Not Possible`.\n",
    "\n",
    "Examples:\n",
    "1. Input: 'watermelon'; Output: 'watlon\n",
    "2. Input: 'try'; Output: 'trytry'\n",
    "3. Input: 'as'; Output: Not Possible"
   ]
  },
  {
   "cell_type": "code",
   "execution_count": 46,
   "metadata": {
    "id": "GcFX7a7aYjSb"
   },
   "outputs": [
    {
     "name": "stdout",
     "output_type": "stream",
     "text": [
      "Input: 'watermelon'; Output: 'watlon'\n",
      "Input: 'try'; Output: 'trytry'\n",
      "Input: 'as'; Output: 'Not Possible'\n"
     ]
    }
   ],
   "source": [
    "def three_sub_str (x):\n",
    "    if len(x) >2:\n",
    "        y = x[0:3] + x[-3:]\n",
    "    else:\n",
    "        y = 'Not Possible'\n",
    "    print(\"Input: \\'\" + x + \"\\'; Output: \\'\" + y + '\\'')\n",
    "\n",
    "three_sub_str('watermelon')\n",
    "three_sub_str('try')\n",
    "three_sub_str('as')\n",
    "    "
   ]
  },
  {
   "cell_type": "markdown",
   "metadata": {
    "id": "dGqJtsN4AvPB"
   },
   "source": [
    "**b)** **[10 pts]** Define a function `five_reverse` that takes as input a string and returns the reverse of the string if its length is a multiple of 5 else returns the original string.\n",
    "\n",
    "Examples:\n",
    "1. Input: 'GreenApple'; Output: 'elppAneerG'\n",
    "2. Input 'RedApple'; Output 'RedApple'"
   ]
  },
  {
   "cell_type": "code",
   "execution_count": 48,
   "metadata": {
    "id": "DKkR3vRRYjun"
   },
   "outputs": [
    {
     "name": "stdout",
     "output_type": "stream",
     "text": [
      "Input: 'GreenApple'; Output: 'elppAneerG'\n",
      "Input: 'RedApple'; Output: 'RedApple'\n"
     ]
    }
   ],
   "source": [
    "def five_reverse(x):\n",
    "    if len(x) % 5 == 0:  \n",
    "        y = x[::-1]\n",
    "    else:\n",
    "        y = x\n",
    "    print(\"Input: \\'\" + x + \"\\'; Output: \\'\" + y + '\\'')\n",
    "\n",
    "five_reverse('GreenApple')\n",
    "five_reverse('RedApple')"
   ]
  },
  {
   "cell_type": "markdown",
   "metadata": {
    "id": "TK1dYXTIYsh2"
   },
   "source": [
    "**c)** **[10 pts]** Define a function `count_char` that takes in as input a string and a boolen value and returns a dictonary that has each charater in the string as key and the count of the number of times the character appeared in the string as value. If the boolean value is `True` then it returns the dict with only the most frequent character else returns the entire dictonary\n",
    "\n",
    "Examples:\n",
    "1. Input: 'apple', False; Output: {'a': 1, 'p': 2, 'l': '1', e: '1'}\n",
    "2. Input: 'apple', True; Output: {'p': 2}"
   ]
  },
  {
   "cell_type": "code",
   "execution_count": 116,
   "metadata": {
    "id": "tu9hnYqDYkbG"
   },
   "outputs": [
    {
     "name": "stdout",
     "output_type": "stream",
     "text": [
      "Input:  apple , FALSE; Output:  {'a': 1, 'p': 2, 'l': 1, 'e': 1}\n",
      "Input:  apple , TRUE; Output:  {'p': 2}\n"
     ]
    }
   ],
   "source": [
    "def count_char(x, y):\n",
    "    if y is True:\n",
    "        highesta = 0\n",
    "        output = {}\n",
    "        for i in x:\n",
    "            if x.count(i) > highesta:\n",
    "                highesta = x.count(i)\n",
    "                highestb = i\n",
    "        output[highestb]=highesta\n",
    "        print('Input: ', x,', TRUE; Output: ',output)\n",
    "    elif y is False:\n",
    "        output = {}\n",
    "        for i in x:\n",
    "            output[i]=x.count(i)\n",
    "        print('Input: ', x, ', FALSE; Output: ',output)\n",
    "            \n",
    "count_char('apple', False)\n",
    "count_char('apple', True)\n",
    "    "
   ]
  },
  {
   "cell_type": "markdown",
   "metadata": {
    "id": "mkFrWZ3kAvPQ"
   },
   "source": [
    "**BONUS** **[10 pts]** Define a function called `min_sub_str` that takes two string arguments ( S and T ) and returns the first possible substring (traversing from left) containing all the elements of `T`. For example: given `S = 'xBxxAxxCxxAxCxxBxxxAxCxBxxxAxxBxCx'` and `T = \"ABC\"`, returns **`\"BxxAxxC\"`**\n"
   ]
  },
  {
   "cell_type": "code",
   "execution_count": 52,
   "metadata": {
    "id": "IBIkXTGpYk59"
   },
   "outputs": [
    {
     "data": {
      "text/plain": [
       "'BxxAxxC'"
      ]
     },
     "execution_count": 52,
     "metadata": {},
     "output_type": "execute_result"
    }
   ],
   "source": [
    "#Look for A, B or C in any order from T\n",
    "#returns the entire string from first character to the last in T\n",
    "\n",
    "def min_sub_str(S, T):\n",
    "    start_ind = [] \n",
    "    for i in range(len(S)):\n",
    "        if S[i] in T:\n",
    "             start_ind += [i]\n",
    "    return S[start_ind[0]:start_ind[2]+1]\n",
    "\n",
    "min_sub_str('xBxxAxxCxxAxCxxBxxxAxCxBxxxAxxBxCx', T= \"ABC\")"
   ]
  },
  {
   "cell_type": "markdown",
   "metadata": {
    "id": "M9eJ34NNAvPT"
   },
   "source": [
    "*****"
   ]
  },
  {
   "cell_type": "markdown",
   "metadata": {
    "id": "NNVEX5FMq_I7"
   },
   "source": [
    "### Question 3 **[20 pts]**:\n"
   ]
  },
  {
   "cell_type": "markdown",
   "metadata": {
    "id": "oDRF95yUAvPW",
    "pycharm": {
     "name": "#%% md\n"
    }
   },
   "source": [
    "Define three classes, `Polygon`, `Rectangle` and `Square`. `Polygon` will be the parent class of `Triangle` and `Square`.\n",
    "\n",
    "1. The `Polygon` should have a function called `WhoAmI` and it should print out `Triangle` if the current object is a triangle or `Square` if the current object is a square.\n",
    "\n",
    "2. When you create a `Rectangle` object it should generate 2 random integers as the sides of the rectangle and store the values in the class.\n",
    "\n",
    "3. Similarly, for `Square` it should randomly generate 1 random integer to denote one side of the square and store it in the class. \n",
    "\n",
    "4. Also, each of the `Rectangle` and `Square` classes should have a function called `findArea` that computes and returns the `Polygon` area. \n",
    "\n",
    "5. The `Polygon` should have a function called `side_lengths` to print the side lengths of the polygon.\n",
    "\n",
    "6. The sides can be any value between 1 and 100, Inclusively.\n",
    "\n",
    "Create 5 Triangle and 5 Square objects and print out all the properties in a loop.\n",
    "\n",
    "It would be best if you mimicked this behaviour.\n",
    "\n",
    "```\n",
    "rect_obj = Rectangle()\n",
    "sq_obj = Square()\n",
    "\n",
    "rect_obj.WhoAmI()\n",
    "Output \"Rectangle\"\n",
    "\n",
    "rect_obj.side_lengths()\n",
    "Output: [5,6] // Random integers that were chosen\n",
    "\n",
    "rect_obj.findArea()\n",
    "Output: 30\n",
    "\n",
    "sq_obj.WhoAmI()\n",
    "Output: \"Square\"\n",
    "\n",
    "sq_obj.side_lengths()\n",
    "Output: [6]\n",
    "\n",
    "sq_obj.findArea()\n",
    "Output: 36\n",
    "```"
   ]
  },
  {
   "cell_type": "code",
   "execution_count": 58,
   "metadata": {
    "id": "I7InKmYHYmBW"
   },
   "outputs": [
    {
     "name": "stdout",
     "output_type": "stream",
     "text": [
      "\n",
      "--- Triangle-1---\n",
      "I am a Triangle\n",
      "sides = [36.23, 12.2, 38.23]\n",
      "area = 221.003\n",
      "\n",
      "--- Square-1---\n",
      "I am a Square\n",
      "sides = [99]\n",
      "area = 9801\n",
      "\n",
      "--- Triangle-2---\n",
      "I am a Triangle\n",
      "sides = [28.49, 10.86, 30.49]\n",
      "area = 154.701\n",
      "\n",
      "--- Square-2---\n",
      "I am a Square\n",
      "sides = [77]\n",
      "area = 5929\n",
      "\n",
      "--- Triangle-3---\n",
      "I am a Triangle\n",
      "sides = [3.94, 4.44, 5.94]\n",
      "area = 8.747\n",
      "\n",
      "--- Square-3---\n",
      "I am a Square\n",
      "sides = [93]\n",
      "area = 8649\n",
      "\n",
      "--- Triangle-4---\n",
      "I am a Triangle\n",
      "sides = [45.21, 13.6, 47.21]\n",
      "area = 307.428\n",
      "\n",
      "--- Square-4---\n",
      "I am a Square\n",
      "sides = [68]\n",
      "area = 4624\n",
      "\n",
      "--- Triangle-5---\n",
      "I am a Triangle\n",
      "sides = [95.94, 19.69, 97.94]\n",
      "area = 944.529\n",
      "\n",
      "--- Square-5---\n",
      "I am a Square\n",
      "sides = [52]\n",
      "area = 2704\n",
      "\n",
      "\n"
     ]
    }
   ],
   "source": [
    "import random\n",
    "\n",
    "class Polygon:\n",
    "        def __init__(self) :\n",
    "                self.name = \"Polygon\"\n",
    "                self.sides = []\n",
    "                \n",
    "        def whoAmI(self) :\n",
    "                print(\"I am a\", self.name)\n",
    "                \n",
    "        def side_lengths(self) :\n",
    "                print(\"sides =\", self.sides)\n",
    "                \n",
    "        def findArea(self):\n",
    "                if(len(self.sides) > 2) :    # area of Triangle.\n",
    "                        a, b = self.sides[0], self.sides[1]\n",
    "                        c = ((a**2)+(b**2))**.5   #used pythagoran theorum to calculate C's value\n",
    "                        p = (a + b + c) / 2\n",
    "                        area = (p*(p-a)*(p-b)*(p-c)) ** 0.5\n",
    "                        print(\"area =\", round(area, 3))\n",
    "                \n",
    "                elif(len(self.sides) > 1) :  # area of Rectangle.\n",
    "                        l, b = self.sides[0], self.sides[1]\n",
    "                        print(\"area =\", 2*(l + b))\n",
    "                \n",
    "                else:         # area of Square.\n",
    "                        print(\"area =\",self.sides[0] ** 2)\n",
    "\n",
    "# Triangle inherits Polygon\n",
    "class Triangle(Polygon):\n",
    "        def __init__(self):\n",
    "                self.name = \"Triangle\"\n",
    "                self.sides = []\n",
    "                m, n = random.uniform(2.0, 10.0), 1\n",
    "                a = round(m * m - n * n, 2)             \n",
    "                b = round(2 * m * n, 2)      # sum of any two sides should be greater than 3rd \n",
    "                c = round(m * m + n * n, 2)             \n",
    "                self.sides.append(a)\n",
    "                self.sides.append(b)    # add sides.\n",
    "                self.sides.append(c)\n",
    "\n",
    "\n",
    "# Rectangle inherits Polygon            \n",
    "class Rectangle(Polygon):\n",
    "        def __init__(self):\n",
    "                self.name = \"Rectangle\"\n",
    "                self.sides = []\n",
    "                # generate side1 randomly \n",
    "                self.side = random.randint(1, 100)      \n",
    "                self.sides.append(self.side)    \n",
    "                # generate side2 randomly \n",
    "                self.side = random.randint(1, 100)      \n",
    "                self.sides.append(self.side)\n",
    "        \n",
    "# Square inherits Rectangle\n",
    "class Square(Rectangle):\n",
    "        def __init__(self):\n",
    "                self.name = \"Square\"\n",
    "                self.sides = []\n",
    "                # generate side randomly \n",
    "                self.side = random.randint(1, 100)\n",
    "                self.sides.append(self.side)\n",
    "\n",
    "def main():\n",
    "        count = 1\n",
    "        while(count <= 5):\n",
    "                \n",
    "                print(f\"\\n--- Triangle-{count}---\")\n",
    "                t1 = Triangle()\n",
    "                t1.whoAmI()\n",
    "                t1.side_lengths()\n",
    "                t1.findArea()\n",
    "                \n",
    "                print(f\"\\n--- Square-{count}---\")\n",
    "                s1 = Square()\n",
    "                s1.whoAmI()\n",
    "                s1.side_lengths()\n",
    "                s1.findArea()\n",
    "                \n",
    "                count+= 1\n",
    "\n",
    "main()  # Create 5 Triangle and 5 Square objects and print out all the properties in a loop\n",
    "print(\"\\n\")\n",
    "    \n"
   ]
  },
  {
   "cell_type": "markdown",
   "metadata": {
    "id": "l9l0sjUoAvPk"
   },
   "source": [
    "#### This is the end of assignment 2"
   ]
  },
  {
   "cell_type": "code",
   "execution_count": 1,
   "metadata": {},
   "outputs": [
    {
     "name": "stderr",
     "output_type": "stream",
     "text": [
      "[NbConvertApp] Converting notebook CIND830s21_Assignment2.ipynb to script\n",
      "[NbConvertApp] Writing 11935 bytes to CIND830s21_Assignment2.py\n"
     ]
    }
   ],
   "source": [
    "!jupyter nbconvert --to script CIND830s21_Assignment2.ipynb"
   ]
  },
  {
   "cell_type": "code",
   "execution_count": null,
   "metadata": {},
   "outputs": [],
   "source": []
  }
 ],
 "metadata": {
  "colab": {
   "collapsed_sections": [],
   "name": "CIND830S21_Assignment2.ipynb",
   "provenance": []
  },
  "kernelspec": {
   "display_name": "Python 3 (ipykernel)",
   "language": "python",
   "name": "python3"
  },
  "language_info": {
   "codemirror_mode": {
    "name": "ipython",
    "version": 3
   },
   "file_extension": ".py",
   "mimetype": "text/x-python",
   "name": "python",
   "nbconvert_exporter": "python",
   "pygments_lexer": "ipython3",
   "version": "3.8.11"
  },
  "nteract": {
   "version": "0.25.1"
  },
  "varInspector": {
   "cols": {
    "lenName": 16,
    "lenType": 16,
    "lenVar": 40
   },
   "kernels_config": {
    "python": {
     "delete_cmd_postfix": "",
     "delete_cmd_prefix": "del ",
     "library": "var_list.py",
     "varRefreshCmd": "print(var_dic_list())"
    },
    "r": {
     "delete_cmd_postfix": ") ",
     "delete_cmd_prefix": "rm(",
     "library": "var_list.r",
     "varRefreshCmd": "cat(var_dic_list()) "
    }
   },
   "types_to_exclude": [
    "module",
    "function",
    "builtin_function_or_method",
    "instance",
    "_Feature"
   ],
   "window_display": false
  }
 },
 "nbformat": 4,
 "nbformat_minor": 4
}
