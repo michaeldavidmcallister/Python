{
 "cells": [
  {
   "cell_type": "markdown",
   "metadata": {
    "id": "kJ6ssXaGJfGN"
   },
   "source": [
    "## CIND830 - Python Programming for Data Science  \n",
    "### Assignment 1 (10% of the final grade) \n",
    "### Due on May 17, 2021 11:59 PM  "
   ]
  },
  {
   "cell_type": "markdown",
   "metadata": {
    "id": "UWjXw7DsJfGP"
   },
   "source": [
    "*****\n",
    "This is a Jupyter Notebook document that extends a simple formatting syntax for authoring HTML and PDF. Review [this](https://jupyter-notebook.readthedocs.io/en/stable/notebook.html) website for more details on using Jupyter Notebooks.\n",
    "\n",
    "Use the JupyterHub server on the Google Cloud Platform, provided by your designated instructor, for this assignment. Ensure using **Python 3.7.6** release then complete the assignment by inserting your Python code wherever seeing the string `#INSERT YOUR ANSWER HERE.`\n",
    "\n",
    "When you click the `File` button, from the top navigation bar, then select `Export Notebook to HTML`, an HTML document will be generated that includes both the assignment content and the output of any embedded Python code chunks.\n",
    "\n",
    "Use [these](https://www.ryerson.ca/courses/students/tutorials/assignments/) guidelines to submit **both** the IPYNB and the exported file (HTML). Failing to submit both files will be subject to mark deduction.\n",
    "\n",
    "Please be advised that you cannot get more than 100% in this assignment, and the **BONUS** question will only be graded if all other questions have been submitted."
   ]
  },
  {
   "cell_type": "markdown",
   "metadata": {},
   "source": [
    "*****\n"
   ]
  },
  {
   "cell_type": "markdown",
   "metadata": {},
   "source": [
    "### Question 1  **[30 pts]**:\n",
    "\n",
    "**a)**  **[10 pts]**  Write a Python program that accepts a list of marks then prints the letter grade and description according to the [Grading System](https://continuing.ryerson.ca/contentManagement.do?method=load&code=CM000034) of the Chang School of Continuing Education.\n",
    "\n",
    "For example, if the user enters `90, 120, -12, 71.5, 62.5`, the output would be as follows:\n",
    "\n",
    "| Mark | Letter Grade | Performance Description |\n",
    "|:-:|:-:|:-:|\n",
    "| 90 | A+ | Excellent |\n",
    "| 120 | Not Possible | Not Possible |\n",
    "| -12 | Not Possible | Not Possible |\n",
    "| 71.5 | B- | Good |\n",
    "| 62.5 | C | Satisfactory |"
   ]
  },
  {
   "cell_type": "code",
   "execution_count": 1,
   "metadata": {
    "collapsed": false,
    "jupyter": {
     "outputs_hidden": false
    },
    "pycharm": {
     "name": "#%%\n"
    }
   },
   "outputs": [
    {
     "name": "stdin",
     "output_type": "stream",
     "text": [
      "Please enter grades to be evaluated:  90, 120, -12, 71.5, 62.5\n"
     ]
    },
    {
     "name": "stdout",
     "output_type": "stream",
     "text": [
      "Mark     Letter Grade     Performance Description\n",
      "90.0 \t A+ \t Excellent\n",
      "120.0 \t Not Possible \t Not Possible\n",
      "-12.0 \t Not Possible \t Not Possible\n",
      "71.5 \t B- \t Good\n",
      "62.5 \t C- \t Satisfactory\n"
     ]
    }
   ],
   "source": [
    "'''Grading System:  \n",
    "Excellent\t\n",
    "A+\t90-100\t4.33\n",
    "A\t85-89\t4.00\n",
    "A-\t80-84\t3.67\n",
    "Good\t\n",
    "B+\t77-79\t3.33\n",
    "B\t73-76\t3.00\n",
    "B-\t70-72\t2.67\n",
    "Satisfactory\t\n",
    "C+\t67-69\t2.33\n",
    "C\t63-66\t2.00\n",
    "C-\t60-62\t1.67\n",
    "Marginal\t\n",
    "D+\t57-59\t1.33\n",
    "D\t53-56\t1.00\n",
    "D-\t50-52\t0.67\n",
    "Unsatisfactory\t\n",
    "F\t0-49\t0'''\n",
    "\n",
    "#Accept comma separated list and assign the values\n",
    "numericGrades = list(input(\"Please enter grades to be evaluated: \").split(\", \"))\n",
    "print(\"Mark     Letter Grade     Performance Description\")\n",
    "numericGrades = [float(i) for i in numericGrades]\n",
    "for i in numericGrades:\n",
    "    if i >100:\n",
    "        print(i, \"\\t\", 'Not Possible', \"\\t\", \"Not Possible\")\n",
    "    elif i >=90:\n",
    "        print(i,\"\\t\",'A+',\"\\t\",'Excellent')\n",
    "    elif i >= 85:\n",
    "        print(i,\"\\t\",'A',\"\\t\",'Excellent')\n",
    "    elif i >= 80:\n",
    "        print(i,\"\\t\",'A-',\"\\t\",'Excellent')\n",
    "    elif i >= 77:\n",
    "        print(i,\"\\t\",'B+',\"\\t\",'Good')\n",
    "    elif i >= 73:\n",
    "        print(i,\"\\t\",'B',\"\\t\",'Good')\n",
    "    elif i >= 70:\n",
    "        print(i,\"\\t\",'B-',\"\\t\",'Good')\n",
    "    elif i >= 67:\n",
    "        print(i,\"\\t\",'C+',\"\\t\",'Satisfactory')\n",
    "    elif i >= 63:\n",
    "        print(i,\"\\t\",'C',\"\\t\",'Satisfactory')\n",
    "    elif i >= 60:\n",
    "        print(i,\"\\t\",'C-',\"\\t\",'Satisfactory')\n",
    "    elif i >= 57:\n",
    "        print(i,\"\\t\",'D+',\"\\t\",'Marginal')\n",
    "    elif i >= 53:\n",
    "        print(i,\"\\t\",'D',\"\\t\",'Marginal')\n",
    "    elif i >= 50:\n",
    "        print(i,\"\\t\",'D-',\"\\t\",'Marginal')\n",
    "    elif i >= 0:\n",
    "        print(i, \"\\t\",'Unsatisfactory', \"\\t\", 'Unsatisfactory')\n",
    "    else:\n",
    "        print(i, \"\\t\",'Not Possible', \"\\t\", 'Not Possible')"
   ]
  },
  {
   "cell_type": "markdown",
   "metadata": {},
   "source": [
    "**b)**  **[10 pts]** Write a code to compute and print the sum of squares of only the `Excellent` marks.\n",
    "\n",
    "For example, if the user enters `90.5, 120, -12, 71.3, 82.2, 62.5`, then the output should be: <br>\n",
    "`The Excellent marks are:  [90.5, 82.2]`<br>\n",
    "`The sum of squares is  14947.09`"
   ]
  },
  {
   "cell_type": "code",
   "execution_count": 47,
   "metadata": {
    "collapsed": false,
    "jupyter": {
     "outputs_hidden": false
    },
    "pycharm": {
     "name": "#%%\n"
    }
   },
   "outputs": [
    {
     "name": "stdin",
     "output_type": "stream",
     "text": [
      "Please enter grades to be evaluated:  90.5, 120, -12, 71.3, 82.2, 62.5\n"
     ]
    },
    {
     "name": "stdout",
     "output_type": "stream",
     "text": [
      "The Excellent Marks are:  [90.5, 82.2]\n",
      "The Sum of Squares are:  14947.09\n"
     ]
    }
   ],
   "source": [
    "%reset -f\n",
    "#resetting variables to avoid residue from prior runs\n",
    "ExcellentMarks = []\n",
    "Square = []\n",
    "#defining my variables as lists\n",
    "\n",
    "newGrades = list(input(\"Please enter grades to be evaluated: \").split(\", \"))\n",
    "newGrades = [float(i) for i in newGrades]\n",
    "for i in newGrades:\n",
    "    if i >= 80 and i <= 100:\n",
    "        ExcellentMarks.append(i)\n",
    "        Square.append(i*i)\n",
    "#iterating the input and creating two lists; ExcellentMarks and Square, modifying Square to give square value\n",
    "\n",
    "SumSquare = sum(Square)\n",
    "print('The Excellent Marks are: ', ExcellentMarks)\n",
    "print('The Sum of Squares are: ', SumSquare)"
   ]
  },
  {
   "cell_type": "markdown",
   "metadata": {},
   "source": [
    "**c)**  **[10 pts]** Write a code to compute and print the `Median`, `Average` and `Mode` of the marks between 0 and 100 after rounding each mark to the nearest integer.  Ensure notifying the user if there is no unique mode found, as the `Mode` in this exercise returns only the single most common mark in the list.\n",
    "\n",
    "For example, if the user enters `89.7, 120, -12, 90, 60.2`, then the output should be: <br>\n",
    "`The valid marks are:  [90, 90, 60] `<br>\n",
    "`Median is 90 ; Average is 80 ; Mode is 90`\n",
    "\n",
    "However, if the user enters `90.6, 70, 100, 40.4`, then the output should be: <br>\n",
    "`The valid marks are:  [91, 70, 100, 40] `<br>\n",
    "`Median is 80.5 ; Average is 75.25 ; No unique mode found`\n",
    "\n",
    "Also, if the user enters `65, 65, 65, 35, 35, 35`, then the output should be: <br>\n",
    "`The valid marks are:  [65, 65, 65, 35, 35, 35] `<br>\n",
    "`Median is 50.0 ; Average is 50 ; No unique mode found`\n",
    "\n",
    "**Hint:** Use the `statistics` module as it provides functions to calculate mathematical statistics of numeric data."
   ]
  },
  {
   "cell_type": "code",
   "execution_count": 115,
   "metadata": {
    "collapsed": false,
    "jupyter": {
     "outputs_hidden": false
    },
    "pycharm": {
     "name": "#%%\n"
    }
   },
   "outputs": [
    {
     "name": "stdin",
     "output_type": "stream",
     "text": [
      "Please enter grades to be evaluated:  65, 65, 65, 35, 35, 35\n"
     ]
    },
    {
     "name": "stdout",
     "output_type": "stream",
     "text": [
      "The valid Marks are:  [65, 65, 65, 35, 35, 35]\n",
      " Median is  50.0 ;  Average is  50.0 ;  No Unique Mode Found\n"
     ]
    }
   ],
   "source": [
    "%reset -f\n",
    "#cleared all variables to avoid residue from prior values in variables, plus imported the statistics module\n",
    "\n",
    "from statistics import mean, median, mode\n",
    "\n",
    "validMarks = []\n",
    "\n",
    "numericGrades = list(input(\"Please enter grades to be evaluated: \").split(\", \"))\n",
    "numericGrades = [float(i) for i in numericGrades]\n",
    "for i in numericGrades:\n",
    "    if i >= 0 and i <= 100:\n",
    "        validMarks.append(i)\n",
    "for i in range(0, len(validMarks)):\n",
    "    validMarks[i] = round(validMarks[i])\n",
    "print('The valid Marks are: ', (validMarks))\n",
    "try:\n",
    "    print(' Median is ', median(validMarks) , '; ', 'Average is ', mean(validMarks), '; ', 'The mode is: ', mode(validMarks))\n",
    "except:\n",
    "    print(' Median is ', median(validMarks) , '; ', 'Average is ', float(mean(validMarks)), '; ','No Unique Mode Found')"
   ]
  },
  {
   "cell_type": "markdown",
   "metadata": {
    "pycharm": {
     "name": "#%% md\n"
    }
   },
   "source": [
    "*****"
   ]
  },
  {
   "cell_type": "markdown",
   "metadata": {},
   "source": [
    "\n",
    "### Question 2  **[40 pts]**:\n",
    "**a)**  **[10 pts]** Write a code that creates a set of different passwords.  Each password is a combination of a random adjective, noun, two digits and two punctuation symbols.\n",
    "\n",
    "For example, if the user asks for generating 4 passwords, then the code might generate the following list:\n",
    "\n",
    "| Password |\n",
    "|:-|\n",
    "| supershine17*-  |\n",
    "| cheerfulmeet78~.  |\n",
    "| elitemango32&,  |\n",
    "| glossytrain14$} |\n",
    "\n",
    "**Hint:**  You can use the `wonderwords` library to generate random words of the English language"
   ]
  },
  {
   "cell_type": "code",
   "execution_count": 200,
   "metadata": {
    "collapsed": false,
    "jupyter": {
     "outputs_hidden": false
    },
    "pycharm": {
     "name": "#%%\n"
    }
   },
   "outputs": [
    {
     "name": "stdin",
     "output_type": "stream",
     "text": [
      "Enter n: 4\n"
     ]
    },
    {
     "name": "stdout",
     "output_type": "stream",
     "text": [
      "Password\n",
      "psychoticslice49~$\n",
      "abstractedintellect70\"=\n",
      "fadedworld70|)\n",
      "ancientferryboat29]=\n"
     ]
    }
   ],
   "source": [
    "%reset -f\n",
    "from wonderwords import RandomWord\n",
    "import random\n",
    "import string\n",
    "n=int(input(\"Enter n:\"))\n",
    "#Create an empty list\n",
    "passwordlist=[]\n",
    "\n",
    "print(\"Password\")  \n",
    "for i in range(1,n+1):\n",
    "    r= RandomWord()\n",
    "    adjectives=r.word(include_parts_of_speech=[\"adjectives\"])\n",
    "    nouns=r.word(include_parts_of_speech=[\"nouns\"])\n",
    "    #Generate 2 random digits\n",
    "    digit=random.randint(0,9)\n",
    "    digit2=random.randint(0,9)\n",
    "    #convert the integers to strings so it can be concatenated\n",
    "    digit=str(digit)\n",
    "    digit2=str(digit2)\n",
    "    #Create 2 random characteres\n",
    "    symbol1=random.choice(string.punctuation)\n",
    "    symbol2=random.choice(string.punctuation)\n",
    "    #concatenate all variables to get the password\n",
    "    password=adjectives+nouns+digit+digit2+symbol1+symbol2\n",
    "    print(password)"
   ]
  },
  {
   "cell_type": "markdown",
   "metadata": {},
   "source": [
    "**b)**  **[10 pts]** Count the letters of each generated password in Q2.a, then print the password along with its number of letters.\n",
    "\n",
    "For example, if the user enters 4, then the output might be as follows:\n",
    "\n",
    "| Password | Length |\n",
    "|:-|:-|\n",
    "| supershine17*-  | 14 |\n",
    "| cheerfulmeet78~.  | 16|\n",
    "| elitemango32&,  | 14|\n",
    "| glossytrain14$} | 15 |\n",
    "\n"
   ]
  },
  {
   "cell_type": "code",
   "execution_count": 179,
   "metadata": {
    "collapsed": false,
    "jupyter": {
     "outputs_hidden": false
    },
    "pycharm": {
     "name": "#%%\n"
    }
   },
   "outputs": [
    {
     "name": "stdin",
     "output_type": "stream",
     "text": [
      "Enter n: 4\n"
     ]
    },
    {
     "name": "stdout",
     "output_type": "stream",
     "text": [
      "Password\t\t\tLength\n",
      "ancienttransaction27^{ \t\t 22\n",
      "incompetentfilter74[~ \t\t 21\n",
      "spookywatercress75+' \t\t 20\n",
      "adventurouspractice62{! \t\t 23\n"
     ]
    }
   ],
   "source": [
    "%reset -f\n",
    "from wonderwords import RandomWord\n",
    "import random\n",
    "import string\n",
    "n=int(input(\"Enter n:\"))\n",
    "#Create an empty list\n",
    "passwordlist=[]\n",
    "\n",
    "for i in range(1,n+1):\n",
    "    r= RandomWord()\n",
    "    adjectives=r.word(include_parts_of_speech=[\"adjectives\"])\n",
    "    nouns=r.word(include_parts_of_speech=[\"nouns\"])\n",
    "    #Generate 2 random digits\n",
    "    digit=random.randint(0,9)\n",
    "    digit2=random.randint(0,9)\n",
    "    #convert the integers to strings so it can be concatenated\n",
    "    digit=str(digit)\n",
    "    digit2=str(digit2)\n",
    "    #Create 2 random characteres\n",
    "    symbol1=random.choice(string.punctuation)\n",
    "    symbol2=random.choice(string.punctuation)\n",
    "    #concatenate all variables to get the password\n",
    "    password=adjectives+nouns+digit+digit2+symbol1+symbol2\n",
    "    #putting the password in a list\n",
    "    passwordlist.append((password,len(password)))\n",
    "#printing the password\n",
    "print(\"Password\\t\\t\\tLength\")   \n",
    "for i in range(len(passwordlist)):\n",
    "    print(passwordlist[i][0],\"\\t\\t\",passwordlist[i][1])"
   ]
  },
  {
   "cell_type": "markdown",
   "metadata": {},
   "source": [
    "**c)**  **[10 pts]** Write a code to print only the passwords with more than 14 letters and either the letter 'o', the digit '3', or the punctuation symbol '~'.\n",
    "\n",
    "For example, the code would filter the 4 passwords listed in 2.a, and print the following output:\n",
    "\n",
    "| Password | Length |\n",
    "|:-|:-|\n",
    "| cheerfulmeet78~.  | 16|\n",
    "| glossytrain14$} | 15 |"
   ]
  },
  {
   "cell_type": "code",
   "execution_count": 115,
   "metadata": {
    "collapsed": false,
    "jupyter": {
     "outputs_hidden": false
    },
    "pycharm": {
     "name": "#%%\n"
    }
   },
   "outputs": [
    {
     "name": "stdin",
     "output_type": "stream",
     "text": [
      "Enter n: 20\n"
     ]
    },
    {
     "name": "stdout",
     "output_type": "stream",
     "text": [
      "Password\t\t\tLength\n",
      "wastefulsleepiness32(! \t\t 22\n",
      "threateningknife-edge38[~ \t\t 25\n",
      "greedydouble04]} \t\t 16\n",
      "credibleriot98#{ \t\t 16\n",
      "tranquilzephyr32_; \t\t 18\n",
      "vastoff-ramp23), \t\t 16\n",
      "majesticfort19^( \t\t 16\n",
      "worthlessacquisition52-= \t\t 24\n",
      "secretiveathlete38[$ \t\t 20\n",
      "freezingpremium88*' \t\t 19\n",
      "woozyarm-rest61#@ \t\t 17\n",
      "niftycoincidence65/} \t\t 20\n",
      "deliciouscomfortable49<_ \t\t 24\n",
      "unsuitablefront82&& \t\t 19\n",
      "narrowwind-chime51\\{ \t\t 20\n"
     ]
    }
   ],
   "source": [
    "%reset -f\n",
    "from wonderwords import RandomWord\n",
    "import random\n",
    "import string\n",
    "\n",
    "n=int(input(\"Enter n:\"))\n",
    "#Create an empty list\n",
    "passwordlist=[]\n",
    "\n",
    "for i in range(1,n+1):\n",
    "    r= RandomWord()\n",
    "    adjectives=r.word(include_parts_of_speech=[\"adjectives\"])\n",
    "    nouns=r.word(include_parts_of_speech=[\"nouns\"])\n",
    "    #Generate 2 random digits\n",
    "    digit=random.randint(0,9)\n",
    "    digit2=random.randint(0,9)\n",
    "    #convert the integers to strings so it can be concatenated\n",
    "    digit=str(digit)\n",
    "    digit2=str(digit2)\n",
    "    #Create 2 random characteres\n",
    "    symbol1=random.choice(string.punctuation)\n",
    "    symbol2=random.choice(string.punctuation)\n",
    "    #concatenate all variables to get the password\n",
    "    password=adjectives+nouns+digit+digit2+symbol1+symbol2\n",
    "    #adding condition to adding password to the passwordlist list\n",
    "    if len(password) >14 and \"o\" in password or \"3\" in password or \"'\" in password:\n",
    "        passwordlist.append((password,len(password)))   \n",
    "    else:\n",
    "        pass\n",
    "print(\"Password\\t\\t\\tLength\")\n",
    "for i in range(len(passwordlist)):\n",
    "    print(passwordlist[i][0],\"\\t\\t\",passwordlist[i][1])"
   ]
  },
  {
   "cell_type": "markdown",
   "metadata": {},
   "source": [
    "**d)**  **[10 pts]** Design an encoder that encrypts the passwords generated in Q2.a. by changing their letters into the octal form.\n",
    "\n",
    "For example, if the user enters 4, then the output might be as follows\n",
    "\n",
    "| Password | Encryption |\n",
    "|:-|:-|\n",
    "| supershine17*- | 0o1630o1650o1600o1450o1620o1630o1500o1510o1560o1450o610o670o520o55 |\n",
    "| cheerfulmeet78~. | 0o1430o1500o1450o1450o1620o1460o1650o1540o1550o1450o1450o1640o670o700o1760o56 |\n",
    "| elitemango32&, | 0o1450o1540o1510o1640o1450o1550o1410o1560o1470o1570o630o620o460o54 |\n",
    "| glossytrain14$} | 0o1470o1540o1570o1630o1630o1710o1640o1620o1410o1510o1560o610o640o440o175 |"
   ]
  },
  {
   "cell_type": "code",
   "execution_count": 23,
   "metadata": {
    "collapsed": false,
    "jupyter": {
     "outputs_hidden": false
    },
    "pycharm": {
     "name": "#%%\n"
    }
   },
   "outputs": [
    {
     "name": "stdin",
     "output_type": "stream",
     "text": [
      "Enter n: 4\n"
     ]
    },
    {
     "name": "stdout",
     "output_type": "stream",
     "text": [
      "Password\n"
     ]
    },
    {
     "ename": "TypeError",
     "evalue": "ord() expected string of length 1, but int found",
     "output_type": "error",
     "traceback": [
      "\u001b[0;31m---------------------------------------------------------------------------\u001b[0m",
      "\u001b[0;31mTypeError\u001b[0m                                 Traceback (most recent call last)",
      "\u001b[0;32m<ipython-input-23-aa190ec72f27>\u001b[0m in \u001b[0;36m<module>\u001b[0;34m\u001b[0m\n\u001b[1;32m     12\u001b[0m     \u001b[0madjectives\u001b[0m\u001b[0;34m=\u001b[0m\u001b[0mr\u001b[0m\u001b[0;34m.\u001b[0m\u001b[0mword\u001b[0m\u001b[0;34m(\u001b[0m\u001b[0minclude_parts_of_speech\u001b[0m\u001b[0;34m=\u001b[0m\u001b[0;34m[\u001b[0m\u001b[0;34m\"adjectives\"\u001b[0m\u001b[0;34m]\u001b[0m\u001b[0;34m)\u001b[0m\u001b[0;34m\u001b[0m\u001b[0;34m\u001b[0m\u001b[0m\n\u001b[1;32m     13\u001b[0m     \u001b[0;32mfor\u001b[0m \u001b[0mi\u001b[0m \u001b[0;32min\u001b[0m \u001b[0mrange\u001b[0m\u001b[0;34m(\u001b[0m\u001b[0;36m1\u001b[0m\u001b[0;34m,\u001b[0m\u001b[0mn\u001b[0m\u001b[0;34m+\u001b[0m\u001b[0;36m1\u001b[0m\u001b[0;34m)\u001b[0m\u001b[0;34m:\u001b[0m\u001b[0;34m\u001b[0m\u001b[0;34m\u001b[0m\u001b[0m\n\u001b[0;32m---> 14\u001b[0;31m         \u001b[0moct\u001b[0m\u001b[0;34m(\u001b[0m\u001b[0mord\u001b[0m\u001b[0;34m(\u001b[0m\u001b[0mi\u001b[0m\u001b[0;34m)\u001b[0m\u001b[0;34m)\u001b[0m \u001b[0;32min\u001b[0m \u001b[0madjectives\u001b[0m\u001b[0;34m\u001b[0m\u001b[0;34m\u001b[0m\u001b[0m\n\u001b[0m\u001b[1;32m     15\u001b[0m         \u001b[0madjoct\u001b[0m \u001b[0;34m+=\u001b[0m \u001b[0mi\u001b[0m\u001b[0;34m\u001b[0m\u001b[0;34m\u001b[0m\u001b[0m\n\u001b[1;32m     16\u001b[0m     \u001b[0mnouns\u001b[0m\u001b[0;34m=\u001b[0m\u001b[0mr\u001b[0m\u001b[0;34m.\u001b[0m\u001b[0mword\u001b[0m\u001b[0;34m(\u001b[0m\u001b[0minclude_parts_of_speech\u001b[0m\u001b[0;34m=\u001b[0m\u001b[0;34m[\u001b[0m\u001b[0;34m\"nouns\"\u001b[0m\u001b[0;34m]\u001b[0m\u001b[0;34m)\u001b[0m\u001b[0;34m\u001b[0m\u001b[0;34m\u001b[0m\u001b[0m\n",
      "\u001b[0;31mTypeError\u001b[0m: ord() expected string of length 1, but int found"
     ]
    }
   ],
   "source": [
    "#%reset -f\n",
    "#pip install wonderwords\n",
    "from wonderwords import RandomWord\n",
    "import random\n",
    "import string\n",
    "n=int(input(\"Enter n:\"))\n",
    "#Create an empty list\n",
    "print(\"Password\")\n",
    "for i in range(1,n+1):\n",
    "    r= RandomWord()\n",
    "    adjectives=r.word(include_parts_of_speech=[\"adjectives\"])\n",
    "    for i in range(1,n+1):\n",
    "        oct(ord(i)) in adjectives\n",
    "        adjoct += i\n",
    "    nouns=r.word(include_parts_of_speech=[\"nouns\"])\n",
    "    for i in range(1,n+1):\n",
    "        oct(ord(i)) in nouns\n",
    "        nounoct += i\n",
    "    #Generate 2 random digits\n",
    "    digit1=random.randint(0,9)\n",
    "    digoct1 += oct(digit1)\n",
    "    digit2=random.randint(0,9)\n",
    "    digoct2 += oct(digit2)\n",
    "    #Create 2 random characteres\n",
    "    symbol1=random.choice(string.punctuation)\n",
    "    symoct1 += oct(ord(symbol1))\n",
    "    symbol2=random.choice(string.punctuation)\n",
    "    symboct2 += oct(ord(symbol2))\n",
    "    password = adjoct + nounoct + digoct1 + digoct2 + symoct1 + symoct2\n",
    "print(password)\n"
   ]
  },
  {
   "cell_type": "markdown",
   "metadata": {
    "id": "pHcWCZ8mJfGU"
   },
   "source": [
    "*****"
   ]
  },
  {
   "cell_type": "markdown",
   "metadata": {
    "id": "O3jPbo4vAvPc"
   },
   "source": [
    "### Question 3  **[30 pts]**:\n",
    "\n",
    "Write a program that accepts the coefficients of the following two lines as inputs\n",
    "\n",
    "Line1: $a_1x+b_1y + c_1 = 0$\n",
    "\n",
    "Line2: $a_2x+b_2y + c_2 = 0$\n",
    "\n",
    "Then checks whether the two lines are parallel, intersecting or overlapping according to the conditions listed below."
   ]
  },
  {
   "cell_type": "markdown",
   "metadata": {
    "id": "h_3gNcgeJfGU"
   },
   "source": [
    "**a)**  **[10 pts]** Intersecting lines: If $\\frac{a_1}{a_2} \\ne \\frac{b_1}{b_2}$"
   ]
  },
  {
   "cell_type": "code",
   "execution_count": 27,
   "metadata": {
    "id": "L1uEFS0GAvPg"
   },
   "outputs": [
    {
     "name": "stdout",
     "output_type": "stream",
     "text": [
      "Line : a1x + b1y + c1 = 0\n",
      "Enter coefficient for line 1\n"
     ]
    },
    {
     "name": "stdin",
     "output_type": "stream",
     "text": [
      "a1 :  1\n",
      "b1 :  2\n",
      "c1 :  3\n"
     ]
    },
    {
     "name": "stdout",
     "output_type": "stream",
     "text": [
      "Line : a2x + b2y + c2 = 0\n",
      "Enter coefficient for line 2\n"
     ]
    },
    {
     "name": "stdin",
     "output_type": "stream",
     "text": [
      "a2 :  2\n",
      "b2 :  1\n",
      "c2 :  3\n"
     ]
    },
    {
     "name": "stdout",
     "output_type": "stream",
     "text": [
      "The Lines are Intersecting\n"
     ]
    }
   ],
   "source": [
    "#Promp user for coefficients of line 1\n",
    "print(\"Line : a1x + b1y + c1 = 0\")\n",
    "print(\"Enter coefficient for line 1\")\n",
    "a1 = int(input(\"a1 : \"))\n",
    "b1 = int(input(\"b1 : \"))\n",
    "c1 = int(input(\"c1 : \"))\n",
    "\n",
    "#Promp user for coefficients of Line 2\n",
    "print(\"Line : a2x + b2y + c2 = 0\")\n",
    "print(\"Enter coefficient for line 2\")\n",
    "a2 = int(input(\"a2 : \"))\n",
    "b2 = int(input(\"b2 : \"))\n",
    "c2 = int(input(\"c2 : \"))\n",
    "\n",
    "if (a1/a2 != b1/b2):\n",
    "    print(\"The Lines are Intersecting\")\n",
    "elif (a1/a2 == b1/b2 != c1/c2):\n",
    "    print(\"The lines are parallel\")\n",
    "elif (a1/a2 == b1/b2 == c1/c2):\n",
    "    print(\"The lines overlap\")\n"
   ]
  },
  {
   "cell_type": "markdown",
   "metadata": {
    "id": "b5J7kRLZAvPe"
   },
   "source": [
    "**b)**   **[10 pts]** Parallel lines: If the lines are not intersecting and $\\frac{a_1}{a_2} = \\frac{b_1}{b_2} \\ne \\frac{c_1}{c_2}$"
   ]
  },
  {
   "cell_type": "code",
   "execution_count": 29,
   "metadata": {
    "id": "bHHNxP0IAvPe"
   },
   "outputs": [
    {
     "name": "stdout",
     "output_type": "stream",
     "text": [
      "Line : a1x + b1y + c1 = 0\n",
      "Enter coefficient for line 1\n"
     ]
    },
    {
     "name": "stdin",
     "output_type": "stream",
     "text": [
      "a1 :  1\n",
      "b1 :  2\n",
      "c1 :  4\n"
     ]
    },
    {
     "name": "stdout",
     "output_type": "stream",
     "text": [
      "Line : a2x + b2y + c2 = 0\n",
      "Enter coefficient for line 2\n"
     ]
    },
    {
     "name": "stdin",
     "output_type": "stream",
     "text": [
      "a2 :  2\n",
      "b2 :  4\n",
      "c2 :  4\n"
     ]
    },
    {
     "name": "stdout",
     "output_type": "stream",
     "text": [
      "The lines are parallel\n"
     ]
    }
   ],
   "source": [
    "#Promp user for coefficients of line 1\n",
    "print(\"Line : a1x + b1y + c1 = 0\")\n",
    "print(\"Enter coefficient for line 1\")\n",
    "a1 = int(input(\"a1 : \"))\n",
    "b1 = int(input(\"b1 : \"))\n",
    "c1 = int(input(\"c1 : \"))\n",
    "\n",
    "#Promp user for coefficients of Line 2\n",
    "print(\"Line : a2x + b2y + c2 = 0\")\n",
    "print(\"Enter coefficient for line 2\")\n",
    "a2 = int(input(\"a2 : \"))\n",
    "b2 = int(input(\"b2 : \"))\n",
    "c2 = int(input(\"c2 : \"))\n",
    "\n",
    "if (a1/a2 != b1/b2):\n",
    "    print(\"The Lines are Intersecting\")\n",
    "elif (a1/a2 == b1/b2 != c1/c2):\n",
    "    print(\"The lines are parallel\")\n",
    "elif (a1/a2 == b1/b2 == c1/c2):\n",
    "    print(\"The lines overlap\")"
   ]
  },
  {
   "cell_type": "markdown",
   "metadata": {
    "id": "6q5tUb98JfGV"
   },
   "source": [
    "**c)**   **[10 pts]** Overlapping lines: If the lines are not intersecting and $\\frac{a_1}{a_2} = \\frac{b_1}{b_2} = \\frac{c_1}{c_2}$"
   ]
  },
  {
   "cell_type": "code",
   "execution_count": 31,
   "metadata": {
    "id": "PvQTbdc8AvPi"
   },
   "outputs": [
    {
     "name": "stdout",
     "output_type": "stream",
     "text": [
      "Line : a1x + b1y + c1 = 0\n",
      "Enter coefficient for line 1\n"
     ]
    },
    {
     "name": "stdin",
     "output_type": "stream",
     "text": [
      "a1 :  1\n",
      "b1 :  2\n",
      "c1 :  3\n"
     ]
    },
    {
     "name": "stdout",
     "output_type": "stream",
     "text": [
      "Line : a2x + b2y + c2 = 0\n",
      "Enter coefficient for line 2\n"
     ]
    },
    {
     "name": "stdin",
     "output_type": "stream",
     "text": [
      "a2 :  1\n",
      "b2 :  2\n",
      "c2 :  3\n"
     ]
    },
    {
     "name": "stdout",
     "output_type": "stream",
     "text": [
      "The lines overlap\n"
     ]
    }
   ],
   "source": [
    "#Promp user for coefficients of line 1\n",
    "print(\"Line : a1x + b1y + c1 = 0\")\n",
    "print(\"Enter coefficient for line 1\")\n",
    "a1 = int(input(\"a1 : \"))\n",
    "b1 = int(input(\"b1 : \"))\n",
    "c1 = int(input(\"c1 : \"))\n",
    "\n",
    "#Promp user for coefficients of Line 2\n",
    "print(\"Line : a2x + b2y + c2 = 0\")\n",
    "print(\"Enter coefficient for line 2\")\n",
    "a2 = int(input(\"a2 : \"))\n",
    "b2 = int(input(\"b2 : \"))\n",
    "c2 = int(input(\"c2 : \"))\n",
    "\n",
    "if (a1/a2 != b1/b2):\n",
    "    print(\"The Lines are Intersecting\")\n",
    "elif (a1/a2 == b1/b2 != c1/c2):\n",
    "    print(\"The lines are parallel\")\n",
    "elif (a1/a2 == b1/b2 == c1/c2):\n",
    "    print(\"The lines overlap\")"
   ]
  },
  {
   "cell_type": "markdown",
   "metadata": {},
   "source": [
    "**BONUS**   **[10 pts]** Plot the two lines graphically using the `matplotlib` and `numpy` libraries or any other suitable libraries. "
   ]
  },
  {
   "cell_type": "code",
   "execution_count": 87,
   "metadata": {},
   "outputs": [
    {
     "name": "stdout",
     "output_type": "stream",
     "text": [
      "Line : a1x + b1y + c1 = 0\n",
      "Enter coefficients for line 1\n"
     ]
    },
    {
     "name": "stdin",
     "output_type": "stream",
     "text": [
      "a1 :  1\n",
      "b1 :  2\n",
      "c1 :  3\n"
     ]
    },
    {
     "name": "stdout",
     "output_type": "stream",
     "text": [
      "Line : a2x + b2y + c2 = 0\n",
      "Enter coefficients for line 2\n"
     ]
    },
    {
     "name": "stdin",
     "output_type": "stream",
     "text": [
      "a2 :  4\n",
      "b2 :  5\n",
      "c2 :  6\n"
     ]
    },
    {
     "data": {
      "image/png": "[encoded data removed]",
      "text/plain": [
       "<Figure size 432x288 with 1 Axes>"
      ]
     },
     "metadata": {
      "needs_background": "light"
     },
     "output_type": "display_data"
    }
   ],
   "source": [
    "import matplotlib.pyplot as plt\n",
    "from mpl_toolkits.mplot3d import Axes3D\n",
    "\n",
    "#Promp user for coefficients of line 1\n",
    "print(\"Line : a1x + b1y + c1 = 0\")\n",
    "print(\"Enter coefficients for line 1\")\n",
    "a1 = int(input(\"a1 : \"))\n",
    "b1 = int(input(\"b1 : \"))\n",
    "c1 = int(input(\"c1 : \"))\n",
    "\n",
    "#Promp user for coefficients of Line 2\n",
    "print(\"Line : a2x + b2y + c2 = 0\")\n",
    "print(\"Enter coefficients for line 2\")\n",
    "a2 = int(input(\"a2 : \"))\n",
    "b2 = int(input(\"b2 : \"))\n",
    "c2 = int(input(\"c2 : \"))\n",
    "\n",
    "a = [a1,b1,c1]\n",
    "b = [a1,b2,c2]\n",
    "\n",
    "plt.plot(a, color='grey')\n",
    "plt.plot(b, color='red')\n",
    "plt.title(\"A in Grey, B in Red\")\n",
    "plt.xlabel(\"X\")\n",
    "plt.ylabel(\"Y\")\n",
    "plt.show()\n"
   ]
  },
  {
   "cell_type": "code",
   "execution_count": 4,
   "metadata": {},
   "outputs": [
    {
     "name": "stdout",
     "output_type": "stream",
     "text": [
      "Collecting wonderwords\n",
      "  Using cached wonderwords-2.2.0-py3-none-any.whl (44 kB)\n",
      "Installing collected packages: wonderwords\n",
      "Successfully installed wonderwords-2.2.0\n",
      "Note: you may need to restart the kernel to use updated packages.\n"
     ]
    }
   ],
   "source": [
    "pip install wonderwords"
   ]
  },
  {
   "cell_type": "markdown",
   "metadata": {
    "id": "1pXjKc23jXTj"
   },
   "source": [
    "*****\n",
    "\n"
   ]
  },
  {
   "cell_type": "markdown",
   "metadata": {
    "id": "7vRukEN2JfGX"
   },
   "source": [
    "#### This is the end of assignment 1"
   ]
  }
 ],
 "metadata": {
  "colab": {
   "collapsed_sections": [],
   "name": "CIND830F20_Assignment_1_QA_v2_revised.ipynb",
   "provenance": []
  },
  "kernelspec": {
   "display_name": "Python 3",
   "language": "python",
   "name": "python3"
  },
  "language_info": {
   "codemirror_mode": {
    "name": "ipython",
    "version": 3
   },
   "file_extension": ".py",
   "mimetype": "text/x-python",
   "name": "python",
   "nbconvert_exporter": "python",
   "pygments_lexer": "ipython3",
   "version": "3.7.6"
  },
  "nteract": {
   "version": "0.28.0"
  },
  "varInspector": {
   "cols": {
    "lenName": 16,
    "lenType": 16,
    "lenVar": 40
   },
   "kernels_config": {
    "python": {
     "delete_cmd_postfix": "",
     "delete_cmd_prefix": "del ",
     "library": "var_list.py",
     "varRefreshCmd": "print(var_dic_list())"
    },
    "r": {
     "delete_cmd_postfix": ") ",
     "delete_cmd_prefix": "rm(",
     "library": "var_list.r",
     "varRefreshCmd": "cat(var_dic_list()) "
    }
   },
   "types_to_exclude": [
    "module",
    "function",
    "builtin_function_or_method",
    "instance",
    "_Feature"
   ],
   "window_display": false
  }
 },
 "nbformat": 4,
 "nbformat_minor": 4
}
