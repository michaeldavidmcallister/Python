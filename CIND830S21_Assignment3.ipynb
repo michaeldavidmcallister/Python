{
 "cells": [
  {
   "cell_type": "markdown",
   "metadata": {
    "id": "zb9n5Pg2TJKM"
   },
   "source": [
    "## CIND830 - Python Programming for Data Science  \n",
    "### Assignment 3 (10% of the final grade) \n",
    "### Due on Jun 16, 2021 11:59 PM"
   ]
  },
  {
   "cell_type": "markdown",
   "metadata": {
    "id": "Oua2yEQZTdq9"
   },
   "source": [
    "*****\n",
    "This is a Jupyter Notebook document that extends a simple formatting syntax for authoring HTML and PDF.\n",
    "Review [this](https://jupyter-notebook.readthedocs.io/en/stable/notebook.html) website for more details on using Jupyter Notebook.\n",
    "\n",
    "Use the JupyterHub server on the Google Cloud Platform, provided by your designated instructor, for this assignment. \n",
    "Ensure using **Python 3.7.6** release then complete the assignment by inserting your Python code wherever seeing the string \"#INSERT YOUR ANSWER HERE.\"\n",
    "\n",
    "When you click the `File` button, from the top navigation bar, then select `Export Notebook As ...`,\n",
    "a document (PDF or HTML format) will be generated that includes\n",
    " both the assignment content and the output of any embedded Python code chunks.\n",
    "\n",
    "Using [these](https://www.ryerson.ca/courses/students/tutorials/assignments/) guidelines,\n",
    "submit **both** the IPYNB and the exported file (PDF or HTML).\n",
    "Failing to submit both files will be subject to mark deduction."
   ]
  },
  {
   "cell_type": "markdown",
   "metadata": {},
   "source": [
    "### Question 1 **[100 pts]**: \n",
    "\n",
    "Write a class **List** that can be initialized with a list of positive real numbers. \n",
    "\n",
    "**Note. Do not use any library for any part of the code. Importing any library will result in deduction of points.** \n",
    "    \n",
    "1. Users of the class should be able to initialize an object of the **List** class with a list of numbers. Name the list as *items*. Other than creating *items* list in the constructor, you may need to add more instructions to fulfill requirements of this task. **(20 Points)**\n",
    "    \n",
    "2. Implement a *sort* method as a member of the **List** class. The sort method should sort the *items* in ascending order. Use insertion sort algorithm for this task. **(10 Points)**\n",
    "    \n",
    "3. Implement a *contains* method as a member the **List** class. It should take a parameter x. If x is in the *items*, the *contains* method should return True otherwise False. Use binary search algorithm to implement this method. **(10 Points)**\n",
    "        \n",
    "4. Implement seperate methods as members of the **List** class to calculate measures of central tendency and spread i.e. *mean*, *median*, *mode*, *iqr*, *stdev*, *variance*. Check the formulas from any standard statistics text book.  Note: The idr method will calculate quartile 1 and 3. Use the nearest point if the quartile position in in between two points. e.g. 3 for 3.49 and 4 for 3.51. **(30 Points)**\n",
    "    - [stdev, variance example](https://en.wikipedia.org/wiki/Standard_deviation#Basic_examples)\n",
    "    - [mean, median and mode example](https://en.wikipedia.org/wiki/Mode_(statistics)#Mode_of_a_sample)\n",
    "        - *mode* method should provide mode value and its frequency as a tuple. e.g. The mode output of [1, 2, 2, 2, 3, 4, 5] will be (2, 3)\n",
    "    - [iqr example](http://web.mnstate.edu/peil/MDEV102/U4/S36/S363.html)\n",
    "    \n",
    "\n",
    "5. An outlier is an unusual data element that might be caused by errors or incorrect data entry. Implement an *outliers* method as a member of the **List** class. It shoud return a list of items that are outliers according to the following formula. **(10 Points)**\n",
    "        \n",
    "    - item > 1.5 x IQR  + 3rd Quartile OR item < 1st Quartile - 1.5  x IQR\n",
    "    - Example as follows\n",
    "```py\n",
    "a_list = List(items=[5,3,7,3,6,4,5,8,2,9,3,4,11,-2])\n",
    "a_list.outliers()\n",
    "[-2, 11]\n",
    "```\n",
    "\n",
    "6. Implement a *stats* method as a member of the **List** class that will print the statistics of data in the *items* list in a nice format. Example as follows. **(10 Points)**\n",
    "```\n",
    "a_list = List(items=[5,3,7,3,6,4,5,8,2,9,3,4,11,-2])\n",
    "a_list.stats()\n",
    "n\t\t: 14\n",
    "min\t\t: -2\n",
    "max\t\t: 11\n",
    "mean\t: 4.857142857142857\n",
    "median\t: 4.5\n",
    "mode\t: (3, 3)\n",
    "stdev\t: 11.7351730159502\n",
    "q1\t\t: 3\n",
    "q3\t\t: 6\n",
    "iqr\t\t: 3 \n",
    "```\n",
    "\n",
    "7. Users of the **List** class should not be able to invoke any method except, *outliers*, *contains* and *stats*. **(Bonus Question)(10 Points)**"
   ]
  },
  {
   "cell_type": "code",
   "execution_count": 104,
   "metadata": {},
   "outputs": [
    {
     "name": "stdout",
     "output_type": "stream",
     "text": [
      "Sorted List: \t[-2, 2, 3, 3, 3, 4, 4, 5, 5, 6, 7, 8, 9, 11]\n",
      "n:\t\t14\n",
      "min:\t \t-2\n",
      "max: \t\t11\n",
      "mean: \t\t4.857142857142857\n",
      "median:\t\t4\n",
      "mode: \t\t(3, 3)\n",
      "variance:\t9.83673469387755\n",
      "sd:  \t \t3.136356914300021\n",
      "q1:  \t \t3\n",
      "q3:  \t \t7\n",
      "IQR:  \t \t4\n",
      "Outliers found:\t[]\n"
     ]
    }
   ],
   "source": [
    "class List:\n",
    "    '''\n",
    "    Initialize List object with a list of numbers.\n",
    "    Name is list as items\n",
    "    Negative numbers kept because they were listed in the example\n",
    "    '''\n",
    "    def __init__(self, items):\n",
    "        self.name = 'myList'\n",
    "        self.items = items\n",
    "    '''\n",
    "    sort method: \n",
    "        sort items in ascending order \n",
    "        using insertion sort algorithm\n",
    "    '''    \n",
    "    def __sort(self):\n",
    "        i = 1\n",
    "        while i < len(self.items):\n",
    "            itemToInsert = self.items[i]\n",
    "            j = i-1\n",
    "            while j >= 0:\n",
    "                if itemToInsert < self.items[j]:\n",
    "                    self.items[j+1] = self.items[j]\n",
    "                    j -= 1\n",
    "                else:\n",
    "                    break\n",
    "            self.items[j+1] = itemToInsert\n",
    "            i += 1    \n",
    "        return self.items\n",
    "    '''\n",
    "    contains method: \n",
    "        search a given item x in items list \n",
    "        using binary search algorithm\n",
    "    '''\n",
    "    def contain(self, target):\n",
    "        left = 0\n",
    "        right = len(self.items)-1\n",
    "        while left<=right:\n",
    "            midpoint = (left + right) //2\n",
    "            if target == self.items[midpoint]:\n",
    "                return 'TRUE'\n",
    "            elif target < self.items[midpoint]:\n",
    "                right = midpoint - 1\n",
    "            else:\n",
    "                left = midpoint +1\n",
    "        return 'FALSE'\n",
    "                \n",
    "        \n",
    "        pass\n",
    "    '''\n",
    "    A method to calculate mean of the items in the list.\n",
    "    '''\n",
    "    def __mean(self):\n",
    "        return sum(self.items)/len(self.items)\n",
    "    \n",
    "    '''\n",
    "    A method to calculate median of the items in the list.\n",
    "    '''\n",
    "    def __median(self, myList):\n",
    "        #[-2, 2, 3, 3, 3, 4, 4, 4, 5, 5, 6, 7, 8, 9, 11]\n",
    "        if len(myList)%2 == 0:\n",
    "            j = myList[int(len(myList)/2-1)]\n",
    "            i = myList[int((len(myList)/2))]\n",
    "            return float((i+j) /2) \n",
    "        else:\n",
    "            return myList[(len(myList)//2)]\n",
    "            \n",
    "        pass\n",
    "    '''\n",
    "    A method to calculate mode of the items in the list.\n",
    "    '''\n",
    "    def __mode(self):\n",
    "        dict = {}\n",
    "        modes = {}\n",
    "        for number in self.items:\n",
    "            count = dict.get(number, None)\n",
    "            if count == None:\n",
    "                dict[number] = 1\n",
    "            else:\n",
    "                dict[number] = count +1\n",
    "        theMode = max(dict.values())\n",
    "        for key in dict:\n",
    "            if dict[key] == theMode:  \n",
    "                return (dict[key], theMode)               \n",
    "            \n",
    "    '''\n",
    "    A method to calculate variance and standard deviation\n",
    "    of the items in the list.\n",
    "    '''\n",
    "    def __var(self):\n",
    "        temp = []\n",
    "        m = self.__mean()\n",
    "        for i in self.items:\n",
    "            temp.append((i - m)**2)\n",
    "        return sum(temp)/len(self.items)\n",
    "    \n",
    "    def __sd(self):\n",
    "        temp = []\n",
    "        m = self.__mean()\n",
    "        for i in self.items:\n",
    "            temp.append((i - m)**2)\n",
    "        return (sum(temp)/len(self.items)) ** .5\n",
    "    '''\n",
    "    A method to calculate iqr\n",
    "    of the items in the list.\n",
    "    '''\n",
    "    def __iqr(self):\n",
    "        n = len(self.items)//2\n",
    "        myList1 = self.items[0:n]\n",
    "        q1 = self.__median(myList1)\n",
    "        myList2 = self.items[n:]\n",
    "        q3 = self.__median(myList2)\n",
    "        return q3 -q1\n",
    "    \n",
    "        \n",
    "    '''\n",
    "    A method to detect outliers \n",
    "    in the items in the list.\n",
    "    '''\n",
    "    def outliers(self):\n",
    "        q1 = a_list.__median(self.items[:(len(self.items)//2)])\n",
    "        q3 = a_list.__median(self.items[(len(self.items)//2):])\n",
    "        IQR = q3-q1\n",
    "        outlier = []\n",
    "        for item in self.items:\n",
    "            if item < q1-IQR*1.5 or item > q3+IQR*1.5:\n",
    "                outlier.append(item)\n",
    "        return outlier\n",
    "        \n",
    "        \n",
    "    '''\n",
    "    A method to print statistics\n",
    "    of the items in the list.\n",
    "    '''\n",
    "    \n",
    "    def stats(self):\n",
    "        a_list.__sort()\n",
    "        print(f\"Sorted List: \\t{self.items}\")\n",
    "        print(f\"n:\\t\\t{len(self.items)}\")\n",
    "        print(f\"min:\\t \\t{self.items[0]}\")\n",
    "        print(f\"max: \\t\\t{self.items[-1]}\")\n",
    "        print(f\"mean: \\t\\t{a_list.__mean()}\")\n",
    "        print(f\"median:\\t\\t{a_list.__median([-2, 2, 3, 3, 3, 4, 4, 4, 5, 5, 6, 7, 8, 9, 11])}\")\n",
    "        print(f\"mode: \\t\\t{a_list.__mode()}\")\n",
    "        print(f\"variance:\\t{a_list.__var()}\")\n",
    "        print(f\"sd:  \\t \\t{a_list.__sd()}\")\n",
    "        print(f\"q1:  \\t \\t{a_list.__median(self.items[:(len(self.items)//2)])}\")\n",
    "        print(f\"q3:  \\t \\t{a_list.__median(self.items[(len(self.items)//2):])}\")\n",
    "        print(f\"IQR:  \\t \\t{a_list.__iqr()}\")\n",
    "        print(f\"Outliers found:\\t{a_list.outliers()}\")\n",
    "    \n",
    "\n",
    "a_list = List(items=[5,3,7,3,6,4,5,8,2,9,3,4,11,-2])\n",
    "a_list.stats()\n"
   ]
  },
  {
   "cell_type": "markdown",
   "metadata": {
    "id": "KE-n_dv5TjDV"
   },
   "source": [
    "### Question 2 **[30 pts]**:\n",
    "\n",
    "\n"
   ]
  },
  {
   "cell_type": "markdown",
   "metadata": {
    "id": "g_VbWFF0Y9Va"
   },
   "source": [
    "Consider a ride sharing scenario where we have a line of kids waiting in front of a ride. In what order should the ride be allocated to each kid.? \n",
    "- Implement a Round Robin Scheduling algorithm using queues in Python that will allow equal share of ride time to all the kids.\n",
    "- *required_time*: Each kid may like to ride for a given duration of time. \n",
    "- *time_quantum*: Ride will be given to each kid for maximum 2 minutes and then to the next kid.\n",
    "- After taking the ride for 2 minutes, if the kid still want more time, he/she will be moved to a waiting queue."
   ]
  },
  {
   "cell_type": "markdown",
   "metadata": {
    "id": "3JkZ4i7pleDS"
   },
   "source": [
    "Answer the following questions:\n",
    "- Report the time each kid took to finish the ride\n",
    "- Report wait times of each process in the queue\n"
   ]
  },
  {
   "cell_type": "markdown",
   "metadata": {
    "id": "2vsMr5mlluHc"
   },
   "source": [
    "$$\\text{Wait time} = \\text{End time} - \\text{Arrival Time} - \\text{Required Time}$$"
   ]
  },
  {
   "cell_type": "markdown",
   "metadata": {
    "id": "vYRpThg9j5aK"
   },
   "source": [
    ">Kid ID | Arrival Time | Required Time |\n",
    ">--- | --- | ---\n",
    ">K1 | 0 | 4\n",
    ">K2 | 1 | 3\n",
    ">K3 | 2 | 2\n",
    ">K4 | 3 | 1\n"
   ]
  },
  {
   "cell_type": "code",
   "execution_count": 90,
   "metadata": {
    "id": "G_CIQvVTjJDe"
   },
   "outputs": [],
   "source": [
    "# use deque class for implementing the solution\n",
    "#look up deque class\n",
    "from collections import deque\n",
    "time_quantum = 2"
   ]
  },
  {
   "cell_type": "code",
   "execution_count": 91,
   "metadata": {
    "id": "ohPozokutM_o"
   },
   "outputs": [],
   "source": [
    "# The Kid class will encapsulate arrival, required and ride time for a kid\n",
    "class Kid:\n",
    "    def __init__(self, name, arrival_time, required_time):\n",
    "        self.name = name\n",
    "        self.arrival_time = arrival_time\n",
    "        self.required_time = required_time\n",
    "        self.time_processed = 0\n",
    "    def __repr__(self):\n",
    "        return self.name"
   ]
  },
  {
   "cell_type": "code",
   "execution_count": 92,
   "metadata": {
    "id": "UIfALROytbh5"
   },
   "outputs": [],
   "source": [
    "# Scenario: 4 kids with given arrival time and required ride time \n",
    "k0 = Kid(name='K1', arrival_time= 0, required_time=4)\n",
    "k1 = Kid(name='K2', arrival_time= 1, required_time=3)\n",
    "k2 = Kid(name='K3', arrival_time= 2, required_time=2)\n",
    "k3 = Kid(name='K4', arrival_time= 3, required_time=1)\n",
    "kids_in_line = [k0, k1, k2, k3]"
   ]
  },
  {
   "cell_type": "code",
   "execution_count": 85,
   "metadata": {
    "id": "8oG3avRfm1dB"
   },
   "outputs": [],
   "source": [
    "# dicionaries to keep track of end and wait times\n",
    "end_times = {kid.name:0 for kid in kids_in_line}\n",
    "wait_times = {kid.name:0 for kid in kids_in_line}"
   ]
  },
  {
   "cell_type": "code",
   "execution_count": 105,
   "metadata": {
    "id": "NpyDp5JFTl5u"
   },
   "outputs": [
    {
     "name": "stdout",
     "output_type": "stream",
     "text": [
      "{'K1': 6, 'K2': 10, 'K3': 8, 'K4': 9}\n",
      "{'K1': 2, 'K2': 6, 'K3': 4, 'K4': 5}\n"
     ]
    }
   ],
   "source": [
    "queue = deque()\n",
    "current_time = t+1\n",
    "riding = None\n",
    "\n",
    "#identify a variable of kid currently on the ride\n",
    "for t in range(11):\n",
    "    for k in kids_in_line:  #add kids to the queue based on arrival time\n",
    "        if t == k.arrival_time:\n",
    "            queue.append(k)\n",
    "    if len(queue) == 0:\n",
    "        break\n",
    "    riding = queue[0]\n",
    "    if riding.time_processed == riding.required_time:  #fill dictionary and pop from queue if time filled\n",
    "        end_times[riding.name] = current_time\n",
    "        wait_times[riding.name] = current_time - riding.arrival_time - riding.required_time\n",
    "        queue.popleft()\n",
    "    elif riding.time_processed == time_quantum:  #pop kid and append to the end of the queue if max ride time met\n",
    "        queue.append(riding)\n",
    "        queue.popleft()\n",
    "    riding = queue[0]\n",
    "    if len(queue) > 0:  #increment time if there are still items in the queue\n",
    "        riding.time_processed += 1\n",
    "\n",
    "print(end_times)\n",
    "print(wait_times)\n",
    "    \n",
    "\n",
    "#Wait time=End time−Arrival Time−Required Time\n"
   ]
  },
  {
   "cell_type": "code",
   "execution_count": 94,
   "metadata": {
    "colab": {
     "base_uri": "https://localhost:8080/"
    },
    "id": "N7fiTOYMmLMB",
    "outputId": "25d6cb2f-9fce-4147-e46a-318ba51f3313"
   },
   "outputs": [
    {
     "name": "stdout",
     "output_type": "stream",
     "text": [
      "{'K1': 6, 'K2': 10, 'K3': 8, 'K4': 9}\n",
      "{'K1': 2, 'K2': 6, 'K3': 4, 'K4': 5}\n"
     ]
    }
   ],
   "source": [
    "print(end_times) # End times for each process\n",
    "print(wait_times) # Wait times for each process in the queue"
   ]
  },
  {
   "cell_type": "code",
   "execution_count": null,
   "metadata": {},
   "outputs": [],
   "source": []
  }
 ],
 "metadata": {
  "colab": {
   "collapsed_sections": [],
   "name": "CIND830W21 Assignment 3 QA.ipynb",
   "provenance": []
  },
  "kernelspec": {
   "display_name": "Python 3",
   "language": "python",
   "name": "python3"
  },
  "language_info": {
   "codemirror_mode": {
    "name": "ipython",
    "version": 3
   },
   "file_extension": ".py",
   "mimetype": "text/x-python",
   "name": "python",
   "nbconvert_exporter": "python",
   "pygments_lexer": "ipython3",
   "version": "3.7.6"
  }
 },
 "nbformat": 4,
 "nbformat_minor": 4
}
